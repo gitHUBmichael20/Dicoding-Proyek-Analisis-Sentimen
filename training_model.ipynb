{
 "cells": [
  {
   "cell_type": "markdown",
   "id": "73d13500",
   "metadata": {},
   "source": [
    "# Sentiment Analysis Model for Wuthering Waves Google Play Reviews\n",
    "\n",
    "**Author:** Michael Teguh Carlo Simbolon  \n",
    "**Cohort ID:** MS155D5Y0583  \n",
    "**Date:** March 10, 2025\n",
    "\n",
    "## Project Overview\n",
    "\n",
    "This notebook performs sentiment analysis on Google Play Store reviews for the game \"Wuthering Waves\". \n",
    "We explore and compare multiple approaches:\n",
    "\n",
    "1. Traditional ML with TF-IDF + SVM\n",
    "2. Deep Learning with Word Embeddings + LSTM\n",
    "3. Traditional ML with TF-IDF + Random Forest\n",
    "\n",
    "The goal is to classify reviews into three sentiment categories (positive, neutral, negative) with over 92% accuracy.\n",
    "Sentiment labeling is performed using a lexicon-based approach to ensure it reflects the text content."
   ]
  },
  {
   "cell_type": "markdown",
   "id": "32e0d85d",
   "metadata": {},
   "source": [
    "## 1. Setup and Import Libraries"
   ]
  },
  {
   "cell_type": "code",
   "execution_count": 2,
   "id": "31530e07",
   "metadata": {},
   "outputs": [
    {
     "name": "stderr",
     "output_type": "stream",
     "text": [
      "[nltk_data] Downloading package punkt to\n",
      "[nltk_data]     C:\\Users\\USER\\AppData\\Roaming\\nltk_data...\n",
      "[nltk_data]   Package punkt is already up-to-date!\n"
     ]
    },
    {
     "data": {
      "text/plain": [
       "True"
      ]
     },
     "execution_count": 2,
     "metadata": {},
     "output_type": "execute_result"
    }
   ],
   "source": [
    "# Data manipulation and analysis\n",
    "import pandas as pd\n",
    "import numpy as np\n",
    "import matplotlib.pyplot as plt\n",
    "import seaborn as sns\n",
    "\n",
    "# Text processing\n",
    "import re\n",
    "import nltk\n",
    "from nltk.tokenize import word_tokenize\n",
    "\n",
    "# Machine learning\n",
    "from sklearn.model_selection import train_test_split\n",
    "from sklearn.feature_extraction.text import TfidfVectorizer\n",
    "from sklearn.ensemble import RandomForestClassifier\n",
    "from sklearn.svm import SVC\n",
    "from sklearn.metrics import accuracy_score, classification_report, confusion_matrix\n",
    "\n",
    "# Deep learning\n",
    "import tensorflow as tf\n",
    "from tensorflow.keras.models import Sequential\n",
    "from tensorflow.keras.layers import Dense, LSTM, Embedding, SpatialDropout1D\n",
    "from tensorflow.keras.preprocessing.text import Tokenizer\n",
    "from tensorflow.keras.preprocessing.sequence import pad_sequences\n",
    "\n",
    "# Set random seeds for reproducibility\n",
    "np.random.seed(42)\n",
    "tf.random.set_seed(42)\n",
    "\n",
    "# Download required NLTK resources\n",
    "nltk.download('punkt')"
   ]
  },
  {
   "cell_type": "markdown",
   "id": "9119e159",
   "metadata": {},
   "source": [
    "## 2. Data Loading and Sentiment Labeling\n",
    "\n",
    "We load the dataset and apply sentiment labeling using a lexicon-based approach."
   ]
  },
  {
   "cell_type": "code",
   "execution_count": 3,
   "id": "de9ecb21",
   "metadata": {},
   "outputs": [
    {
     "name": "stdout",
     "output_type": "stream",
     "text": [
      "Loading dataset...\n",
      "Dataset loaded with 10000 samples.\n",
      "Labeling sentiment based on review text...\n",
      "Sentiment labeling completed.\n",
      "\n",
      "Sample data:\n"
     ]
    },
    {
     "data": {
      "application/vnd.microsoft.datawrangler.viewer.v0+json": {
       "columns": [
        {
         "name": "index",
         "rawType": "int64",
         "type": "integer"
        },
        {
         "name": "Text",
         "rawType": "object",
         "type": "string"
        },
        {
         "name": "Label Sentimen",
         "rawType": "object",
         "type": "string"
        }
       ],
       "conversionMethod": "pd.DataFrame",
       "ref": "987a7d2a-5aaf-467b-895c-052287520cf5",
       "rows": [
        [
         "0",
         "keren parah ini game, cuma kurang subtitle indo nya aja",
         "positif"
        ],
        [
         "1",
         "bagus",
         "positif"
        ],
        [
         "2",
         "Dari hadian dan event sudah bagus ,tapi di bagian echo aku sudah muak sudah 1bulan gak ketemu echo cr atau pun cdm ,saya udah Muak Dangan gacha echo ,CEO tolong di perbaiki 🤡🤡",
         "positif"
        ],
        [
         "3",
         "Kuro tolong permudah untuk ganti set tim ,ini terlalu ribet harus buka pengaturan dll terlalu lama",
         "netral"
        ],
        [
         "4",
         "Gk rugi main ini game, BAGUS!",
         "positif"
        ]
       ],
       "shape": {
        "columns": 2,
        "rows": 5
       }
      },
      "text/html": [
       "<div>\n",
       "<style scoped>\n",
       "    .dataframe tbody tr th:only-of-type {\n",
       "        vertical-align: middle;\n",
       "    }\n",
       "\n",
       "    .dataframe tbody tr th {\n",
       "        vertical-align: top;\n",
       "    }\n",
       "\n",
       "    .dataframe thead th {\n",
       "        text-align: right;\n",
       "    }\n",
       "</style>\n",
       "<table border=\"1\" class=\"dataframe\">\n",
       "  <thead>\n",
       "    <tr style=\"text-align: right;\">\n",
       "      <th></th>\n",
       "      <th>Text</th>\n",
       "      <th>Label Sentimen</th>\n",
       "    </tr>\n",
       "  </thead>\n",
       "  <tbody>\n",
       "    <tr>\n",
       "      <th>0</th>\n",
       "      <td>keren parah ini game, cuma kurang subtitle ind...</td>\n",
       "      <td>positif</td>\n",
       "    </tr>\n",
       "    <tr>\n",
       "      <th>1</th>\n",
       "      <td>bagus</td>\n",
       "      <td>positif</td>\n",
       "    </tr>\n",
       "    <tr>\n",
       "      <th>2</th>\n",
       "      <td>Dari hadian dan event sudah bagus ,tapi di bag...</td>\n",
       "      <td>positif</td>\n",
       "    </tr>\n",
       "    <tr>\n",
       "      <th>3</th>\n",
       "      <td>Kuro tolong permudah untuk ganti set tim ,ini ...</td>\n",
       "      <td>netral</td>\n",
       "    </tr>\n",
       "    <tr>\n",
       "      <th>4</th>\n",
       "      <td>Gk rugi main ini game, BAGUS!</td>\n",
       "      <td>positif</td>\n",
       "    </tr>\n",
       "  </tbody>\n",
       "</table>\n",
       "</div>"
      ],
      "text/plain": [
       "                                                Text Label Sentimen\n",
       "0  keren parah ini game, cuma kurang subtitle ind...        positif\n",
       "1                                              bagus        positif\n",
       "2  Dari hadian dan event sudah bagus ,tapi di bag...        positif\n",
       "3  Kuro tolong permudah untuk ganti set tim ,ini ...         netral\n",
       "4                      Gk rugi main ini game, BAGUS!        positif"
      ]
     },
     "metadata": {},
     "output_type": "display_data"
    },
    {
     "name": "stdout",
     "output_type": "stream",
     "text": [
      "\n",
      "Missing values:\n"
     ]
    },
    {
     "data": {
      "text/plain": [
       "Username                 0\n",
       "Text                     0\n",
       "Rating                   0\n",
       "Tanggal                  0\n",
       "Jumlah Suka              0\n",
       "Balasan Pengembang    9998\n",
       "Versi Aplikasi        2821\n",
       "Label Sentimen           0\n",
       "dtype: int64"
      ]
     },
     "metadata": {},
     "output_type": "display_data"
    }
   ],
   "source": [
    "# Define lexicon for sentiment analysis (Indonesian)\n",
    "positive_words = set(['bagus', 'seru', 'keren', 'suka', 'mantap', 'hebat', 'menarik', 'puas', 'lancar', 'keren'])\n",
    "negative_words = set(['buruk', 'jelek', 'lambat', 'bug', 'error', 'sulit', 'mengecewakan', 'bosan', 'lag', 'crash'])\n",
    "\n",
    "def preprocess_text(text):\n",
    "    \"\"\"Clean text for sentiment analysis.\"\"\"\n",
    "    if pd.isna(text):  # Check for NaN values using pandas\n",
    "        return \"\"\n",
    "    text = text.lower()  # Convert to lowercase\n",
    "    text = re.sub(r'[^a-zA-Z\\s]', '', text)  # Remove non-alphabetic characters except spaces\n",
    "    tokens = word_tokenize(text)  # Split text into tokens\n",
    "    return tokens\n",
    "\n",
    "def label_sentiment(text):\n",
    "    \"\"\"Label sentiment based on lexicon.\"\"\"\n",
    "    tokens = preprocess_text(text)\n",
    "    score = 0\n",
    "    for token in tokens:\n",
    "        if token in positive_words:\n",
    "            score += 1\n",
    "        elif token in negative_words:\n",
    "            score -= 1\n",
    "    if score > 0:\n",
    "        return 'positif'\n",
    "    elif score < 0:\n",
    "        return 'negatif'\n",
    "    else:\n",
    "        return 'netral'\n",
    "\n",
    "# Load dataset\n",
    "print(\"Loading dataset...\")\n",
    "df = pd.read_csv('dataset.csv')  # Adjust file name as needed\n",
    "print(f\"Dataset loaded with {len(df)} samples.\")\n",
    "\n",
    "# Apply sentiment labeling\n",
    "print(\"Labeling sentiment based on review text...\")\n",
    "df['Label Sentimen'] = df['Text'].apply(label_sentiment)\n",
    "print(\"Sentiment labeling completed.\")\n",
    "\n",
    "# Display the first few rows\n",
    "print(\"\\nSample data:\")\n",
    "display(df[['Text', 'Label Sentimen']].head())\n",
    "\n",
    "# Check for missing values\n",
    "print(\"\\nMissing values:\")\n",
    "display(df.isnull().sum())"
   ]
  },
  {
   "cell_type": "markdown",
   "id": "89fb1247",
   "metadata": {},
   "source": [
    "## 3. Data Preprocessing\n",
    "\n",
    "We clean and prepare the text data for modeling."
   ]
  },
  {
   "cell_type": "code",
   "execution_count": 4,
   "id": "cce8b5e7",
   "metadata": {},
   "outputs": [
    {
     "name": "stdout",
     "output_type": "stream",
     "text": [
      "Preprocessing text data for modeling...\n",
      "Text preprocessing completed.\n",
      "\n",
      "Sample of processed text:\n",
      "Original: keren parah ini game, cuma kurang subtitle indo nya aja\n",
      "Processed: keren parah ini game cuma kurang subtitle indo nya aja\n",
      "\n",
      "Original: bagus\n",
      "Processed: bagus\n",
      "\n",
      "Original: Dari hadian dan event sudah bagus ,tapi di bagian echo aku sudah muak sudah 1bulan gak ketemu echo cr atau pun cdm ,saya udah Muak Dangan gacha echo ,CEO tolong di perbaiki 🤡🤡\n",
      "Processed: dari hadian dan event sudah bagus tapi di bagian echo aku sudah muak sudah bulan gak ketemu echo cr atau pun cdm saya udah muak dangan gacha echo ceo tolong di perbaiki\n",
      "\n"
     ]
    }
   ],
   "source": [
    "def preprocess_text_model(text):\n",
    "    \"\"\"Clean text for modeling.\"\"\"\n",
    "    if pd.isna(text):\n",
    "        return \"\"\n",
    "    text = text.lower()\n",
    "    text = re.sub(r'[^a-zA-Z\\s]', '', text)\n",
    "    tokens = word_tokenize(text)\n",
    "    return ' '.join(tokens)\n",
    "\n",
    "# Apply preprocessing for modeling\n",
    "print(\"Preprocessing text data for modeling...\")\n",
    "df['Processed_Text'] = df['Text'].apply(preprocess_text_model)\n",
    "print(\"Text preprocessing completed.\")\n",
    "\n",
    "# Display sample of processed text\n",
    "print(\"\\nSample of processed text:\")\n",
    "for i in range(3):\n",
    "    print(f\"Original: {df['Text'].iloc[i]}\")\n",
    "    print(f\"Processed: {df['Processed_Text'].iloc[i]}\")\n",
    "    print()"
   ]
  },
  {
   "cell_type": "markdown",
   "id": "8f10100a",
   "metadata": {},
   "source": [
    "## 4. Exploratory Data Analysis\n",
    "\n",
    "Analyze the distribution of sentiment classes and text characteristics."
   ]
  },
  {
   "cell_type": "code",
   "execution_count": 5,
   "id": "930f90d2",
   "metadata": {},
   "outputs": [
    {
     "name": "stdout",
     "output_type": "stream",
     "text": [
      "Sentiment class distribution:\n"
     ]
    },
    {
     "data": {
      "text/plain": [
       "Label Sentimen\n",
       "netral     6697\n",
       "positif    2658\n",
       "negatif     645\n",
       "Name: count, dtype: int64"
      ]
     },
     "metadata": {},
     "output_type": "display_data"
    },
    {
     "name": "stderr",
     "output_type": "stream",
     "text": [
      "C:\\Users\\USER\\AppData\\Local\\Temp\\ipykernel_12284\\2403960833.py:8: FutureWarning: \n",
      "\n",
      "Passing `palette` without assigning `hue` is deprecated and will be removed in v0.14.0. Assign the `x` variable to `hue` and set `legend=False` for the same effect.\n",
      "\n",
      "  sns.countplot(x='Label Sentimen', data=df, palette='viridis')\n"
     ]
    },
    {
     "data": {
      "image/png": "[encoded data removed]",
      "text/plain": [
       "<Figure size 1000x600 with 1 Axes>"
      ]
     },
     "metadata": {},
     "output_type": "display_data"
    },
    {
     "data": {
      "image/png": "[encoded data removed]",
      "text/plain": [
       "<Figure size 1200x600 with 1 Axes>"
      ]
     },
     "metadata": {},
     "output_type": "display_data"
    }
   ],
   "source": [
    "# Check class distribution\n",
    "print(\"Sentiment class distribution:\")\n",
    "sentiment_counts = df['Label Sentimen'].value_counts()\n",
    "display(sentiment_counts)\n",
    "\n",
    "# Plot the distribution\n",
    "plt.figure(figsize=(10, 6))\n",
    "sns.countplot(x='Label Sentimen', data=df, palette='viridis')\n",
    "plt.title('Distribution of Sentiment Classes')\n",
    "plt.xlabel('Sentiment')\n",
    "plt.ylabel('Count')\n",
    "plt.xticks(rotation=0)\n",
    "plt.tight_layout()\n",
    "plt.show()\n",
    "\n",
    "# Calculate text length statistics\n",
    "df['text_length'] = df['Processed_Text'].apply(len)\n",
    "\n",
    "plt.figure(figsize=(12, 6))\n",
    "sns.histplot(data=df, x='text_length', hue='Label Sentimen', bins=50, kde=True)\n",
    "plt.title('Distribution of Text Lengths by Sentiment')\n",
    "plt.xlabel('Text Length (characters)')\n",
    "plt.ylabel('Frequency')\n",
    "plt.axvline(x=df['text_length'].mean(), color='r', linestyle='--', label=f'Mean: {df[\"text_length\"].mean():.1f}')\n",
    "plt.legend()\n",
    "plt.tight_layout()\n",
    "plt.show()"
   ]
  },
  {
   "cell_type": "markdown",
   "id": "07342547",
   "metadata": {},
   "source": [
    "## 5. Feature Engineering\n",
    "\n",
    "Prepare features for both traditional ML and deep learning approaches."
   ]
  },
  {
   "cell_type": "code",
   "execution_count": 6,
   "id": "45032590",
   "metadata": {},
   "outputs": [
    {
     "name": "stdout",
     "output_type": "stream",
     "text": [
      "Creating TF-IDF features...\n",
      "TF-IDF feature shape: (10000, 5000)\n",
      "\n",
      "Creating sequence features for deep learning...\n",
      "Sequence feature shape: (10000, 100)\n",
      "Vocabulary size: 10647 words\n"
     ]
    }
   ],
   "source": [
    "# Define Features and Labels\n",
    "X = df['Processed_Text']\n",
    "y = df['Label Sentimen'].map({'positif': 2, 'netral': 1, 'negatif': 0})  # Encode labels\n",
    "\n",
    "# TF-IDF Vectorization for traditional ML\n",
    "print(\"Creating TF-IDF features...\")\n",
    "tfidf = TfidfVectorizer(max_features=5000)\n",
    "X_tfidf = tfidf.fit_transform(X).toarray()\n",
    "print(f\"TF-IDF feature shape: {X_tfidf.shape}\")\n",
    "\n",
    "# Text sequence preparation for LSTM\n",
    "print(\"\\nCreating sequence features for deep learning...\")\n",
    "tokenizer = Tokenizer(num_words=5000)\n",
    "tokenizer.fit_on_texts(X)\n",
    "X_seq = tokenizer.texts_to_sequences(X)\n",
    "X_pad = pad_sequences(X_seq, maxlen=100)\n",
    "print(f\"Sequence feature shape: {X_pad.shape}\")\n",
    "\n",
    "# Display vocabulary size\n",
    "word_index = tokenizer.word_index\n",
    "print(f\"Vocabulary size: {len(word_index)} words\")"
   ]
  },
  {
   "cell_type": "markdown",
   "id": "c4dc64c8",
   "metadata": {},
   "source": [
    "## 6. Experiment 1: TF-IDF + SVM (80/20 Split)"
   ]
  },
  {
   "cell_type": "code",
   "execution_count": 7,
   "id": "5cd8ecd3",
   "metadata": {},
   "outputs": [
    {
     "name": "stdout",
     "output_type": "stream",
     "text": [
      "=== Experiment 1: TF-IDF + SVM (80/20 Split) ===\n",
      "Training set: 8000 samples\n",
      "Test set: 2000 samples\n",
      "\n",
      "Training SVM model...\n",
      "SVM model training completed.\n",
      "\n",
      "Evaluating SVM model...\n",
      "SVM Accuracy: 0.9750\n",
      "\n",
      "Classification Report:\n",
      "              precision    recall  f1-score   support\n",
      "\n",
      "     negatif       0.95      0.78      0.86       124\n",
      "      netral       0.97      0.99      0.98      1309\n",
      "     positif       0.99      0.98      0.98       567\n",
      "\n",
      "    accuracy                           0.97      2000\n",
      "   macro avg       0.97      0.92      0.94      2000\n",
      "weighted avg       0.97      0.97      0.97      2000\n",
      "\n"
     ]
    },
    {
     "data": {
      "image/png": "[encoded data removed]",
      "text/plain": [
       "<Figure size 800x600 with 2 Axes>"
      ]
     },
     "metadata": {},
     "output_type": "display_data"
    }
   ],
   "source": [
    "print(\"=== Experiment 1: TF-IDF + SVM (80/20 Split) ===\")\n",
    "\n",
    "# Split data\n",
    "X_train, X_test, y_train, y_test = train_test_split(X_tfidf, y, test_size=0.2, random_state=42)\n",
    "print(f\"Training set: {X_train.shape[0]} samples\")\n",
    "print(f\"Test set: {X_test.shape[0]} samples\")\n",
    "\n",
    "# Train SVM model\n",
    "print(\"\\nTraining SVM model...\")\n",
    "svm_model = SVC(kernel='linear', probability=True)\n",
    "svm_model.fit(X_train, y_train)\n",
    "print(\"SVM model training completed.\")\n",
    "\n",
    "# Evaluate\n",
    "print(\"\\nEvaluating SVM model...\")\n",
    "y_pred_svm = svm_model.predict(X_test)\n",
    "svm_acc = accuracy_score(y_test, y_pred_svm)\n",
    "print(f\"SVM Accuracy: {svm_acc:.4f}\")\n",
    "\n",
    "# Display detailed classification report\n",
    "print(\"\\nClassification Report:\")\n",
    "print(classification_report(y_test, y_pred_svm, target_names=['negatif', 'netral', 'positif']))\n",
    "\n",
    "# Plot confusion matrix\n",
    "plt.figure(figsize=(8, 6))\n",
    "cm = confusion_matrix(y_test, y_pred_svm)\n",
    "sns.heatmap(cm, annot=True, fmt='d', cmap='Blues', xticklabels=['negatif', 'netral', 'positif'], \n",
    "            yticklabels=['negatif', 'netral', 'positif'])\n",
    "plt.title('SVM Confusion Matrix')\n",
    "plt.xlabel('Predicted')\n",
    "plt.ylabel('True')\n",
    "plt.tight_layout()\n",
    "plt.show()"
   ]
  },
  {
   "cell_type": "markdown",
   "id": "dd10d419",
   "metadata": {},
   "source": [
    "## 7. Experiment 2: Word Embedding + LSTM (80/20 Split)"
   ]
  },
  {
   "cell_type": "code",
   "execution_count": 8,
   "id": "eca8d912",
   "metadata": {},
   "outputs": [
    {
     "name": "stdout",
     "output_type": "stream",
     "text": [
      "=== Experiment 2: Word Embedding + LSTM (80/20 Split) ===\n",
      "Training set: 8000 samples\n",
      "Test set: 2000 samples\n",
      "\n",
      "Building LSTM model...\n",
      "LSTM model architecture:\n"
     ]
    },
    {
     "name": "stderr",
     "output_type": "stream",
     "text": [
      "c:\\Users\\USER\\AppData\\Local\\Programs\\Python\\Python312\\Lib\\site-packages\\keras\\src\\layers\\core\\embedding.py:90: UserWarning: Argument `input_length` is deprecated. Just remove it.\n",
      "  warnings.warn(\n"
     ]
    },
    {
     "data": {
      "text/html": [
       "<pre style=\"white-space:pre;overflow-x:auto;line-height:normal;font-family:Menlo,'DejaVu Sans Mono',consolas,'Courier New',monospace\"><span style=\"font-weight: bold\">Model: \"sequential\"</span>\n",
       "</pre>\n"
      ],
      "text/plain": [
       "\u001b[1mModel: \"sequential\"\u001b[0m\n"
      ]
     },
     "metadata": {},
     "output_type": "display_data"
    },
    {
     "data": {
      "text/html": [
       "<pre style=\"white-space:pre;overflow-x:auto;line-height:normal;font-family:Menlo,'DejaVu Sans Mono',consolas,'Courier New',monospace\">┏━━━━━━━━━━━━━━━━━━━━━━━━━━━━━━━━━┳━━━━━━━━━━━━━━━━━━━━━━━━┳━━━━━━━━━━━━━━━┓\n",
       "┃<span style=\"font-weight: bold\"> Layer (type)                    </span>┃<span style=\"font-weight: bold\"> Output Shape           </span>┃<span style=\"font-weight: bold\">       Param # </span>┃\n",
       "┡━━━━━━━━━━━━━━━━━━━━━━━━━━━━━━━━━╇━━━━━━━━━━━━━━━━━━━━━━━━╇━━━━━━━━━━━━━━━┩\n",
       "│ embedding (<span style=\"color: #0087ff; text-decoration-color: #0087ff\">Embedding</span>)           │ ?                      │   <span style=\"color: #00af00; text-decoration-color: #00af00\">0</span> (unbuilt) │\n",
       "├─────────────────────────────────┼────────────────────────┼───────────────┤\n",
       "│ spatial_dropout1d               │ ?                      │             <span style=\"color: #00af00; text-decoration-color: #00af00\">0</span> │\n",
       "│ (<span style=\"color: #0087ff; text-decoration-color: #0087ff\">SpatialDropout1D</span>)              │                        │               │\n",
       "├─────────────────────────────────┼────────────────────────┼───────────────┤\n",
       "│ lstm (<span style=\"color: #0087ff; text-decoration-color: #0087ff\">LSTM</span>)                     │ ?                      │   <span style=\"color: #00af00; text-decoration-color: #00af00\">0</span> (unbuilt) │\n",
       "├─────────────────────────────────┼────────────────────────┼───────────────┤\n",
       "│ dense (<span style=\"color: #0087ff; text-decoration-color: #0087ff\">Dense</span>)                   │ ?                      │   <span style=\"color: #00af00; text-decoration-color: #00af00\">0</span> (unbuilt) │\n",
       "└─────────────────────────────────┴────────────────────────┴───────────────┘\n",
       "</pre>\n"
      ],
      "text/plain": [
       "┏━━━━━━━━━━━━━━━━━━━━━━━━━━━━━━━━━┳━━━━━━━━━━━━━━━━━━━━━━━━┳━━━━━━━━━━━━━━━┓\n",
       "┃\u001b[1m \u001b[0m\u001b[1mLayer (type)                   \u001b[0m\u001b[1m \u001b[0m┃\u001b[1m \u001b[0m\u001b[1mOutput Shape          \u001b[0m\u001b[1m \u001b[0m┃\u001b[1m \u001b[0m\u001b[1m      Param #\u001b[0m\u001b[1m \u001b[0m┃\n",
       "┡━━━━━━━━━━━━━━━━━━━━━━━━━━━━━━━━━╇━━━━━━━━━━━━━━━━━━━━━━━━╇━━━━━━━━━━━━━━━┩\n",
       "│ embedding (\u001b[38;5;33mEmbedding\u001b[0m)           │ ?                      │   \u001b[38;5;34m0\u001b[0m (unbuilt) │\n",
       "├─────────────────────────────────┼────────────────────────┼───────────────┤\n",
       "│ spatial_dropout1d               │ ?                      │             \u001b[38;5;34m0\u001b[0m │\n",
       "│ (\u001b[38;5;33mSpatialDropout1D\u001b[0m)              │                        │               │\n",
       "├─────────────────────────────────┼────────────────────────┼───────────────┤\n",
       "│ lstm (\u001b[38;5;33mLSTM\u001b[0m)                     │ ?                      │   \u001b[38;5;34m0\u001b[0m (unbuilt) │\n",
       "├─────────────────────────────────┼────────────────────────┼───────────────┤\n",
       "│ dense (\u001b[38;5;33mDense\u001b[0m)                   │ ?                      │   \u001b[38;5;34m0\u001b[0m (unbuilt) │\n",
       "└─────────────────────────────────┴────────────────────────┴───────────────┘\n"
      ]
     },
     "metadata": {},
     "output_type": "display_data"
    },
    {
     "data": {
      "text/html": [
       "<pre style=\"white-space:pre;overflow-x:auto;line-height:normal;font-family:Menlo,'DejaVu Sans Mono',consolas,'Courier New',monospace\"><span style=\"font-weight: bold\"> Total params: </span><span style=\"color: #00af00; text-decoration-color: #00af00\">0</span> (0.00 B)\n",
       "</pre>\n"
      ],
      "text/plain": [
       "\u001b[1m Total params: \u001b[0m\u001b[38;5;34m0\u001b[0m (0.00 B)\n"
      ]
     },
     "metadata": {},
     "output_type": "display_data"
    },
    {
     "data": {
      "text/html": [
       "<pre style=\"white-space:pre;overflow-x:auto;line-height:normal;font-family:Menlo,'DejaVu Sans Mono',consolas,'Courier New',monospace\"><span style=\"font-weight: bold\"> Trainable params: </span><span style=\"color: #00af00; text-decoration-color: #00af00\">0</span> (0.00 B)\n",
       "</pre>\n"
      ],
      "text/plain": [
       "\u001b[1m Trainable params: \u001b[0m\u001b[38;5;34m0\u001b[0m (0.00 B)\n"
      ]
     },
     "metadata": {},
     "output_type": "display_data"
    },
    {
     "data": {
      "text/html": [
       "<pre style=\"white-space:pre;overflow-x:auto;line-height:normal;font-family:Menlo,'DejaVu Sans Mono',consolas,'Courier New',monospace\"><span style=\"font-weight: bold\"> Non-trainable params: </span><span style=\"color: #00af00; text-decoration-color: #00af00\">0</span> (0.00 B)\n",
       "</pre>\n"
      ],
      "text/plain": [
       "\u001b[1m Non-trainable params: \u001b[0m\u001b[38;5;34m0\u001b[0m (0.00 B)\n"
      ]
     },
     "metadata": {},
     "output_type": "display_data"
    },
    {
     "name": "stdout",
     "output_type": "stream",
     "text": [
      "\n",
      "Training LSTM model...\n",
      "Epoch 1/10\n",
      "\u001b[1m100/100\u001b[0m \u001b[32m━━━━━━━━━━━━━━━━━━━━\u001b[0m\u001b[37m\u001b[0m \u001b[1m11s\u001b[0m 79ms/step - accuracy: 0.6524 - loss: 0.7971 - val_accuracy: 0.8788 - val_loss: 0.4054\n",
      "Epoch 2/10\n",
      "\u001b[1m100/100\u001b[0m \u001b[32m━━━━━━━━━━━━━━━━━━━━\u001b[0m\u001b[37m\u001b[0m \u001b[1m7s\u001b[0m 67ms/step - accuracy: 0.8841 - loss: 0.3314 - val_accuracy: 0.9613 - val_loss: 0.1370\n",
      "Epoch 3/10\n",
      "\u001b[1m100/100\u001b[0m \u001b[32m━━━━━━━━━━━━━━━━━━━━\u001b[0m\u001b[37m\u001b[0m \u001b[1m7s\u001b[0m 73ms/step - accuracy: 0.9560 - loss: 0.1395 - val_accuracy: 0.9744 - val_loss: 0.0809\n",
      "Epoch 4/10\n",
      "\u001b[1m100/100\u001b[0m \u001b[32m━━━━━━━━━━━━━━━━━━━━\u001b[0m\u001b[37m\u001b[0m \u001b[1m7s\u001b[0m 70ms/step - accuracy: 0.9775 - loss: 0.0609 - val_accuracy: 0.9775 - val_loss: 0.0602\n",
      "Epoch 5/10\n",
      "\u001b[1m100/100\u001b[0m \u001b[32m━━━━━━━━━━━━━━━━━━━━\u001b[0m\u001b[37m\u001b[0m \u001b[1m7s\u001b[0m 74ms/step - accuracy: 0.9862 - loss: 0.0435 - val_accuracy: 0.9844 - val_loss: 0.0386\n",
      "Epoch 6/10\n",
      "\u001b[1m100/100\u001b[0m \u001b[32m━━━━━━━━━━━━━━━━━━━━\u001b[0m\u001b[37m\u001b[0m \u001b[1m9s\u001b[0m 85ms/step - accuracy: 0.9935 - loss: 0.0209 - val_accuracy: 0.9906 - val_loss: 0.0392\n",
      "Epoch 7/10\n",
      "\u001b[1m100/100\u001b[0m \u001b[32m━━━━━━━━━━━━━━━━━━━━\u001b[0m\u001b[37m\u001b[0m \u001b[1m8s\u001b[0m 77ms/step - accuracy: 0.9846 - loss: 0.0536 - val_accuracy: 0.9931 - val_loss: 0.0302\n",
      "Epoch 8/10\n",
      "\u001b[1m100/100\u001b[0m \u001b[32m━━━━━━━━━━━━━━━━━━━━\u001b[0m\u001b[37m\u001b[0m \u001b[1m7s\u001b[0m 74ms/step - accuracy: 0.9952 - loss: 0.0140 - val_accuracy: 0.9831 - val_loss: 0.0662\n",
      "Epoch 9/10\n",
      "\u001b[1m100/100\u001b[0m \u001b[32m━━━━━━━━━━━━━━━━━━━━\u001b[0m\u001b[37m\u001b[0m \u001b[1m7s\u001b[0m 70ms/step - accuracy: 0.9954 - loss: 0.0175 - val_accuracy: 0.9894 - val_loss: 0.0350\n",
      "Epoch 10/10\n",
      "\u001b[1m100/100\u001b[0m \u001b[32m━━━━━━━━━━━━━━━━━━━━\u001b[0m\u001b[37m\u001b[0m \u001b[1m7s\u001b[0m 74ms/step - accuracy: 0.9990 - loss: 0.0085 - val_accuracy: 0.9881 - val_loss: 0.0370\n",
      "LSTM model training completed.\n",
      "\n",
      "Evaluating LSTM model...\n",
      "LSTM Test Accuracy: 0.9885\n",
      "\u001b[1m63/63\u001b[0m \u001b[32m━━━━━━━━━━━━━━━━━━━━\u001b[0m\u001b[37m\u001b[0m \u001b[1m2s\u001b[0m 23ms/step\n",
      "\n",
      "Classification Report:\n",
      "              precision    recall  f1-score   support\n",
      "\n",
      "     negatif       0.98      0.96      0.97       124\n",
      "      netral       0.99      0.99      0.99      1309\n",
      "     positif       0.98      1.00      0.99       567\n",
      "\n",
      "    accuracy                           0.99      2000\n",
      "   macro avg       0.98      0.98      0.98      2000\n",
      "weighted avg       0.99      0.99      0.99      2000\n",
      "\n"
     ]
    },
    {
     "data": {
      "image/png": "[encoded data removed]",
      "text/plain": [
       "<Figure size 800x600 with 2 Axes>"
      ]
     },
     "metadata": {},
     "output_type": "display_data"
    }
   ],
   "source": [
    "print(\"=== Experiment 2: Word Embedding + LSTM (80/20 Split) ===\")\n",
    "\n",
    "# Split data\n",
    "X_train_lstm, X_test_lstm, y_train_lstm, y_test_lstm = train_test_split(X_pad, y, test_size=0.2, random_state=42)\n",
    "print(f\"Training set: {X_train_lstm.shape[0]} samples\")\n",
    "print(f\"Test set: {X_test_lstm.shape[0]} samples\")\n",
    "\n",
    "# Build LSTM model\n",
    "print(\"\\nBuilding LSTM model...\")\n",
    "lstm_model = Sequential([\n",
    "    Embedding(input_dim=5000, output_dim=128, input_length=100),\n",
    "    SpatialDropout1D(0.2),\n",
    "    LSTM(100, dropout=0.2, recurrent_dropout=0.2),\n",
    "    Dense(3, activation='softmax')\n",
    "])\n",
    "lstm_model.compile(loss='sparse_categorical_crossentropy', optimizer='adam', metrics=['accuracy'])\n",
    "print(\"LSTM model architecture:\")\n",
    "lstm_model.summary()\n",
    "\n",
    "# Train LSTM\n",
    "print(\"\\nTraining LSTM model...\")\n",
    "history = lstm_model.fit(\n",
    "    X_train_lstm, y_train_lstm,\n",
    "    epochs=10,\n",
    "    batch_size=64,\n",
    "    validation_split=0.2,\n",
    "    verbose=1\n",
    ")\n",
    "print(\"LSTM model training completed.\")\n",
    "\n",
    "# Evaluate\n",
    "print(\"\\nEvaluating LSTM model...\")\n",
    "lstm_loss, lstm_acc = lstm_model.evaluate(X_test_lstm, y_test_lstm, verbose=0)\n",
    "print(f\"LSTM Test Accuracy: {lstm_acc:.4f}\")\n",
    "\n",
    "y_pred_lstm = np.argmax(lstm_model.predict(X_test_lstm), axis=1)\n",
    "print(\"\\nClassification Report:\")\n",
    "print(classification_report(y_test_lstm, y_pred_lstm, target_names=['negatif', 'netral', 'positif']))\n",
    "\n",
    "# Plot confusion matrix\n",
    "plt.figure(figsize=(8, 6))\n",
    "cm = confusion_matrix(y_test_lstm, y_pred_lstm)\n",
    "sns.heatmap(cm, annot=True, fmt='d', cmap='Blues', xticklabels=['negatif', 'netral', 'positif'], \n",
    "            yticklabels=['negatif', 'netral', 'positif'])\n",
    "plt.title('LSTM Confusion Matrix')\n",
    "plt.xlabel('Predicted')\n",
    "plt.ylabel('True')\n",
    "plt.tight_layout()\n",
    "plt.show()"
   ]
  },
  {
   "cell_type": "markdown",
   "id": "c948a2d1",
   "metadata": {},
   "source": [
    "## 8. Experiment 3: TF-IDF + Random Forest (70/30 Split)"
   ]
  },
  {
   "cell_type": "code",
   "execution_count": 9,
   "id": "bed0c560",
   "metadata": {},
   "outputs": [
    {
     "name": "stdout",
     "output_type": "stream",
     "text": [
      "=== Experiment 3: TF-IDF + Random Forest (70/30 Split) ===\n",
      "Training set: 7000 samples\n",
      "Test set: 3000 samples\n",
      "\n",
      "Training Random Forest model...\n",
      "Random Forest model training completed.\n",
      "\n",
      "Evaluating Random Forest model...\n",
      "Random Forest Accuracy: 0.9487\n",
      "\n",
      "Classification Report:\n",
      "              precision    recall  f1-score   support\n",
      "\n",
      "     negatif       0.98      0.55      0.71       188\n",
      "      netral       0.95      0.98      0.96      1985\n",
      "     positif       0.94      0.97      0.95       827\n",
      "\n",
      "    accuracy                           0.95      3000\n",
      "   macro avg       0.96      0.83      0.88      3000\n",
      "weighted avg       0.95      0.95      0.95      3000\n",
      "\n"
     ]
    },
    {
     "data": {
      "image/png": "[encoded data removed]",
      "text/plain": [
       "<Figure size 800x600 with 2 Axes>"
      ]
     },
     "metadata": {},
     "output_type": "display_data"
    }
   ],
   "source": [
    "print(\"=== Experiment 3: TF-IDF + Random Forest (70/30 Split) ===\")\n",
    "\n",
    "# Split data\n",
    "X_train_rf, X_test_rf, y_train_rf, y_test_rf = train_test_split(X_tfidf, y, test_size=0.3, random_state=42)\n",
    "print(f\"Training set: {X_train_rf.shape[0]} samples\")\n",
    "print(f\"Test set: {X_test_rf.shape[0]} samples\")\n",
    "\n",
    "# Train Random Forest\n",
    "print(\"\\nTraining Random Forest model...\")\n",
    "rf_model = RandomForestClassifier(n_estimators=100, random_state=42)\n",
    "rf_model.fit(X_train_rf, y_train_rf)\n",
    "print(\"Random Forest model training completed.\")\n",
    "\n",
    "# Evaluate\n",
    "print(\"\\nEvaluating Random Forest model...\")\n",
    "y_pred_rf = rf_model.predict(X_test_rf)\n",
    "rf_acc = accuracy_score(y_test_rf, y_pred_rf)\n",
    "print(f\"Random Forest Accuracy: {rf_acc:.4f}\")\n",
    "\n",
    "print(\"\\nClassification Report:\")\n",
    "print(classification_report(y_test_rf, y_pred_rf, target_names=['negatif', 'netral', 'positif']))\n",
    "\n",
    "# Plot confusion matrix\n",
    "plt.figure(figsize=(8, 6))\n",
    "cm = confusion_matrix(y_test_rf, y_pred_rf)\n",
    "sns.heatmap(cm, annot=True, fmt='d', cmap='Blues', xticklabels=['negatif', 'netral', 'positif'], \n",
    "            yticklabels=['negatif', 'netral', 'positif'])\n",
    "plt.title('Random Forest Confusion Matrix')\n",
    "plt.xlabel('Predicted')\n",
    "plt.ylabel('True')\n",
    "plt.tight_layout()\n",
    "plt.show()"
   ]
  },
  {
   "cell_type": "markdown",
   "id": "87f91db1",
   "metadata": {},
   "source": [
    "## 9. Model Deployment: Inference Function"
   ]
  },
  {
   "cell_type": "code",
   "execution_count": 10,
   "id": "00b23252",
   "metadata": {},
   "outputs": [],
   "source": [
    "def predict_sentiment(text, model_type='lstm'):\n",
    "    \"\"\"Predict sentiment for new text input.\"\"\"\n",
    "    processed_text = preprocess_text_model(text)\n",
    "    label_map = {0: 'negatif', 1: 'netral', 2: 'positif'}\n",
    "    \n",
    "    if model_type == 'lstm':\n",
    "        seq = tokenizer.texts_to_sequences([processed_text])\n",
    "        padded = pad_sequences(seq, maxlen=100)\n",
    "        pred_probs = lstm_model.predict(padded)[0]\n",
    "        pred_label = np.argmax(pred_probs)\n",
    "        confidence = pred_probs[pred_label]\n",
    "    elif model_type == 'svm':\n",
    "        tfidf_text = tfidf.transform([processed_text]).toarray()\n",
    "        pred_label = svm_model.predict(tfidf_text)[0]\n",
    "        confidence = np.max(svm_model.predict_proba(tfidf_text)[0])\n",
    "    elif model_type == 'rf':\n",
    "        tfidf_text = tfidf.transform([processed_text]).toarray()\n",
    "        pred_label = rf_model.predict(tfidf_text)[0]\n",
    "        confidence = np.max(rf_model.predict_proba(tfidf_text)[0])\n",
    "    else:\n",
    "        raise ValueError(\"Model type must be 'lstm', 'svm', or 'rf'\")\n",
    "    \n",
    "    return label_map[pred_label], confidence"
   ]
  },
  {
   "cell_type": "markdown",
   "id": "69fd90c5",
   "metadata": {},
   "source": [
    "## 10. Testing Inference on Sample Reviews"
   ]
  },
  {
   "cell_type": "code",
   "execution_count": 11,
   "id": "26ea7e94",
   "metadata": {},
   "outputs": [
    {
     "name": "stdout",
     "output_type": "stream",
     "text": [
      "=== Inference Examples ===\n",
      "\u001b[1m1/1\u001b[0m \u001b[32m━━━━━━━━━━━━━━━━━━━━\u001b[0m\u001b[37m\u001b[0m \u001b[1m0s\u001b[0m 59ms/step\n",
      "\u001b[1m1/1\u001b[0m \u001b[32m━━━━━━━━━━━━━━━━━━━━\u001b[0m\u001b[37m\u001b[0m \u001b[1m0s\u001b[0m 39ms/step\n",
      "\u001b[1m1/1\u001b[0m \u001b[32m━━━━━━━━━━━━━━━━━━━━\u001b[0m\u001b[37m\u001b[0m \u001b[1m0s\u001b[0m 48ms/step\n",
      "\u001b[1m1/1\u001b[0m \u001b[32m━━━━━━━━━━━━━━━━━━━━\u001b[0m\u001b[37m\u001b[0m \u001b[1m0s\u001b[0m 38ms/step\n",
      "\u001b[1m1/1\u001b[0m \u001b[32m━━━━━━━━━━━━━━━━━━━━\u001b[0m\u001b[37m\u001b[0m \u001b[1m0s\u001b[0m 39ms/step\n"
     ]
    },
    {
     "data": {
      "application/vnd.microsoft.datawrangler.viewer.v0+json": {
       "columns": [
        {
         "name": "index",
         "rawType": "int64",
         "type": "integer"
        },
        {
         "name": "Review",
         "rawType": "object",
         "type": "string"
        },
        {
         "name": "LSTM Prediction",
         "rawType": "object",
         "type": "string"
        },
        {
         "name": "LSTM Confidence",
         "rawType": "object",
         "type": "string"
        },
        {
         "name": "SVM Prediction",
         "rawType": "object",
         "type": "string"
        },
        {
         "name": "SVM Confidence",
         "rawType": "object",
         "type": "string"
        },
        {
         "name": "RF Prediction",
         "rawType": "object",
         "type": "string"
        },
        {
         "name": "RF Confidence",
         "rawType": "object",
         "type": "string"
        }
       ],
       "conversionMethod": "pd.DataFrame",
       "ref": "2e37da42-e57c-49f8-8da1-e27bb25be5d7",
       "rows": [
        [
         "0",
         "Game ini sangat seru dan grafisnya bagus!",
         "positif",
         "0.9999",
         "positif",
         "1.0000",
         "positif",
         "0.9200"
        ],
        [
         "1",
         "Biasa saja, tidak terlalu menarik.",
         "positif",
         "0.9988",
         "positif",
         "1.0000",
         "positif",
         "0.6700"
        ],
        [
         "2",
         "Banyak bug, sangat mengecewakan.",
         "negatif",
         "0.9984",
         "negatif",
         "1.0000",
         "negatif",
         "0.7000"
        ],
        [
         "3",
         "Gameplay cukup menarik tapi masih ada beberapa masalah teknis.",
         "positif",
         "0.9964",
         "positif",
         "0.9908",
         "positif",
         "0.6200"
        ],
        [
         "4",
         "Karakter dan cerita sangat menarik, saya sangat menikmati permainan ini!",
         "positif",
         "0.9994",
         "positif",
         "1.0000",
         "positif",
         "0.7500"
        ]
       ],
       "shape": {
        "columns": 7,
        "rows": 5
       }
      },
      "text/html": [
       "<div>\n",
       "<style scoped>\n",
       "    .dataframe tbody tr th:only-of-type {\n",
       "        vertical-align: middle;\n",
       "    }\n",
       "\n",
       "    .dataframe tbody tr th {\n",
       "        vertical-align: top;\n",
       "    }\n",
       "\n",
       "    .dataframe thead th {\n",
       "        text-align: right;\n",
       "    }\n",
       "</style>\n",
       "<table border=\"1\" class=\"dataframe\">\n",
       "  <thead>\n",
       "    <tr style=\"text-align: right;\">\n",
       "      <th></th>\n",
       "      <th>Review</th>\n",
       "      <th>LSTM Prediction</th>\n",
       "      <th>LSTM Confidence</th>\n",
       "      <th>SVM Prediction</th>\n",
       "      <th>SVM Confidence</th>\n",
       "      <th>RF Prediction</th>\n",
       "      <th>RF Confidence</th>\n",
       "    </tr>\n",
       "  </thead>\n",
       "  <tbody>\n",
       "    <tr>\n",
       "      <th>0</th>\n",
       "      <td>Game ini sangat seru dan grafisnya bagus!</td>\n",
       "      <td>positif</td>\n",
       "      <td>0.9999</td>\n",
       "      <td>positif</td>\n",
       "      <td>1.0000</td>\n",
       "      <td>positif</td>\n",
       "      <td>0.9200</td>\n",
       "    </tr>\n",
       "    <tr>\n",
       "      <th>1</th>\n",
       "      <td>Biasa saja, tidak terlalu menarik.</td>\n",
       "      <td>positif</td>\n",
       "      <td>0.9988</td>\n",
       "      <td>positif</td>\n",
       "      <td>1.0000</td>\n",
       "      <td>positif</td>\n",
       "      <td>0.6700</td>\n",
       "    </tr>\n",
       "    <tr>\n",
       "      <th>2</th>\n",
       "      <td>Banyak bug, sangat mengecewakan.</td>\n",
       "      <td>negatif</td>\n",
       "      <td>0.9984</td>\n",
       "      <td>negatif</td>\n",
       "      <td>1.0000</td>\n",
       "      <td>negatif</td>\n",
       "      <td>0.7000</td>\n",
       "    </tr>\n",
       "    <tr>\n",
       "      <th>3</th>\n",
       "      <td>Gameplay cukup menarik tapi masih ada beberapa...</td>\n",
       "      <td>positif</td>\n",
       "      <td>0.9964</td>\n",
       "      <td>positif</td>\n",
       "      <td>0.9908</td>\n",
       "      <td>positif</td>\n",
       "      <td>0.6200</td>\n",
       "    </tr>\n",
       "    <tr>\n",
       "      <th>4</th>\n",
       "      <td>Karakter dan cerita sangat menarik, saya sanga...</td>\n",
       "      <td>positif</td>\n",
       "      <td>0.9994</td>\n",
       "      <td>positif</td>\n",
       "      <td>1.0000</td>\n",
       "      <td>positif</td>\n",
       "      <td>0.7500</td>\n",
       "    </tr>\n",
       "  </tbody>\n",
       "</table>\n",
       "</div>"
      ],
      "text/plain": [
       "                                              Review LSTM Prediction  \\\n",
       "0          Game ini sangat seru dan grafisnya bagus!         positif   \n",
       "1                 Biasa saja, tidak terlalu menarik.         positif   \n",
       "2                   Banyak bug, sangat mengecewakan.         negatif   \n",
       "3  Gameplay cukup menarik tapi masih ada beberapa...         positif   \n",
       "4  Karakter dan cerita sangat menarik, saya sanga...         positif   \n",
       "\n",
       "  LSTM Confidence SVM Prediction SVM Confidence RF Prediction RF Confidence  \n",
       "0          0.9999        positif         1.0000       positif        0.9200  \n",
       "1          0.9988        positif         1.0000       positif        0.6700  \n",
       "2          0.9984        negatif         1.0000       negatif        0.7000  \n",
       "3          0.9964        positif         0.9908       positif        0.6200  \n",
       "4          0.9994        positif         1.0000       positif        0.7500  "
      ]
     },
     "metadata": {},
     "output_type": "display_data"
    }
   ],
   "source": [
    "sample_reviews = [\n",
    "    \"Game ini sangat seru dan grafisnya bagus!\",\n",
    "    \"Biasa saja, tidak terlalu menarik.\",\n",
    "    \"Banyak bug, sangat mengecewakan.\",\n",
    "    \"Gameplay cukup menarik tapi masih ada beberapa masalah teknis.\",\n",
    "    \"Karakter dan cerita sangat menarik, saya sangat menikmati permainan ini!\"\n",
    "]\n",
    "\n",
    "results = []\n",
    "print(\"=== Inference Examples ===\")\n",
    "for review in sample_reviews:\n",
    "    lstm_pred, lstm_conf = predict_sentiment(review, 'lstm')\n",
    "    svm_pred, svm_conf = predict_sentiment(review, 'svm')\n",
    "    rf_pred, rf_conf = predict_sentiment(review, 'rf')\n",
    "    results.append({\n",
    "        'Review': review,\n",
    "        'LSTM Prediction': lstm_pred,\n",
    "        'LSTM Confidence': f\"{lstm_conf:.4f}\",\n",
    "        'SVM Prediction': svm_pred,\n",
    "        'SVM Confidence': f\"{svm_conf:.4f}\",\n",
    "        'RF Prediction': rf_pred,\n",
    "        'RF Confidence': f\"{rf_conf:.4f}\"\n",
    "    })\n",
    "\n",
    "display(pd.DataFrame(results))"
   ]
  },
  {
   "cell_type": "markdown",
   "id": "fc06825a",
   "metadata": {},
   "source": [
    "## 11. Summary and Conclusion"
   ]
  },
  {
   "cell_type": "code",
   "execution_count": 12,
   "id": "42f9edb2",
   "metadata": {},
   "outputs": [
    {
     "name": "stdout",
     "output_type": "stream",
     "text": [
      "=== Summary of Results ===\n"
     ]
    },
    {
     "data": {
      "application/vnd.microsoft.datawrangler.viewer.v0+json": {
       "columns": [
        {
         "name": "index",
         "rawType": "int64",
         "type": "integer"
        },
        {
         "name": "Model",
         "rawType": "object",
         "type": "string"
        },
        {
         "name": "Accuracy",
         "rawType": "object",
         "type": "string"
        },
        {
         "name": "Split Ratio",
         "rawType": "object",
         "type": "string"
        },
        {
         "name": "Feature Type",
         "rawType": "object",
         "type": "string"
        }
       ],
       "conversionMethod": "pd.DataFrame",
       "ref": "275eccb1-009d-441f-9244-6a5e980edeb4",
       "rows": [
        [
         "0",
         "SVM + TF-IDF (80/20)",
         "0.9750",
         "80/20",
         "TF-IDF"
        ],
        [
         "1",
         "LSTM + Embedding (80/20)",
         "0.9885",
         "80/20",
         "Word Embedding"
        ],
        [
         "2",
         "RF + TF-IDF (70/30)",
         "0.9487",
         "70/30",
         "TF-IDF"
        ]
       ],
       "shape": {
        "columns": 4,
        "rows": 3
       }
      },
      "text/html": [
       "<div>\n",
       "<style scoped>\n",
       "    .dataframe tbody tr th:only-of-type {\n",
       "        vertical-align: middle;\n",
       "    }\n",
       "\n",
       "    .dataframe tbody tr th {\n",
       "        vertical-align: top;\n",
       "    }\n",
       "\n",
       "    .dataframe thead th {\n",
       "        text-align: right;\n",
       "    }\n",
       "</style>\n",
       "<table border=\"1\" class=\"dataframe\">\n",
       "  <thead>\n",
       "    <tr style=\"text-align: right;\">\n",
       "      <th></th>\n",
       "      <th>Model</th>\n",
       "      <th>Accuracy</th>\n",
       "      <th>Split Ratio</th>\n",
       "      <th>Feature Type</th>\n",
       "    </tr>\n",
       "  </thead>\n",
       "  <tbody>\n",
       "    <tr>\n",
       "      <th>0</th>\n",
       "      <td>SVM + TF-IDF (80/20)</td>\n",
       "      <td>0.9750</td>\n",
       "      <td>80/20</td>\n",
       "      <td>TF-IDF</td>\n",
       "    </tr>\n",
       "    <tr>\n",
       "      <th>1</th>\n",
       "      <td>LSTM + Embedding (80/20)</td>\n",
       "      <td>0.9885</td>\n",
       "      <td>80/20</td>\n",
       "      <td>Word Embedding</td>\n",
       "    </tr>\n",
       "    <tr>\n",
       "      <th>2</th>\n",
       "      <td>RF + TF-IDF (70/30)</td>\n",
       "      <td>0.9487</td>\n",
       "      <td>70/30</td>\n",
       "      <td>TF-IDF</td>\n",
       "    </tr>\n",
       "  </tbody>\n",
       "</table>\n",
       "</div>"
      ],
      "text/plain": [
       "                      Model Accuracy Split Ratio    Feature Type\n",
       "0      SVM + TF-IDF (80/20)   0.9750       80/20          TF-IDF\n",
       "1  LSTM + Embedding (80/20)   0.9885       80/20  Word Embedding\n",
       "2       RF + TF-IDF (70/30)   0.9487       70/30          TF-IDF"
      ]
     },
     "metadata": {},
     "output_type": "display_data"
    },
    {
     "data": {
      "image/png": "[encoded data removed]",
      "text/plain": [
       "<Figure size 1000x600 with 1 Axes>"
      ]
     },
     "metadata": {},
     "output_type": "display_data"
    }
   ],
   "source": [
    "summary_data = {\n",
    "    'Model': ['SVM + TF-IDF (80/20)', 'LSTM + Embedding (80/20)', 'RF + TF-IDF (70/30)'],\n",
    "    'Accuracy': [svm_acc, lstm_acc, rf_acc],\n",
    "    'Split Ratio': ['80/20', '80/20', '70/30'],\n",
    "    'Feature Type': ['TF-IDF', 'Word Embedding', 'TF-IDF']\n",
    "}\n",
    "\n",
    "summary_df = pd.DataFrame(summary_data)\n",
    "summary_df['Accuracy'] = summary_df['Accuracy'].apply(lambda x: f\"{x:.4f}\")\n",
    "\n",
    "print(\"=== Summary of Results ===\")\n",
    "display(summary_df)\n",
    "\n",
    "plt.figure(figsize=(10, 6))\n",
    "accuracies = [svm_acc, lstm_acc, rf_acc]\n",
    "model_names = ['SVM + TF-IDF', 'LSTM + Embedding', 'RF + TF-IDF']\n",
    "bars = plt.bar(model_names, accuracies, color=['skyblue', 'lightgreen', 'salmon'])\n",
    "plt.axhline(y=0.92, color='r', linestyle='--', label='Target Accuracy (92%)')\n",
    "\n",
    "for bar in bars:\n",
    "    height = bar.get_height()\n",
    "    plt.text(bar.get_x() + bar.get_width()/2., height + 0.005, f'{height:.4f}', ha='center', va='bottom')\n",
    "\n",
    "plt.title('Model Accuracy Comparison')\n",
    "plt.ylabel('Accuracy')\n",
    "plt.ylim(0, 1.0)\n",
    "plt.legend()\n",
    "plt.tight_layout()\n",
    "plt.show()"
   ]
  },
  {
   "cell_type": "markdown",
   "id": "433d8b79",
   "metadata": {},
   "source": [
    "## 12. Future Improvements\n",
    "\n",
    "- Expand the sentiment lexicon with more Indonesian words.\n",
    "- Add negation handling (e.g., 'tidak bagus' as negative).\n",
    "- Use pre-trained embeddings like FastText for better feature representation.\n",
    "- Implement cross-validation for robust evaluation."
   ]
  }
 ],
 "metadata": {
  "kernelspec": {
   "display_name": "Python 3",
   "language": "python",
   "name": "python3"
  },
  "language_info": {
   "codemirror_mode": {
    "name": "ipython",
    "version": 3
   },
   "file_extension": ".py",
   "mimetype": "text/x-python",
   "name": "python",
   "nbconvert_exporter": "python",
   "pygments_lexer": "ipython3",
   "version": "3.12.8"
  }
 },
 "nbformat": 4,
 "nbformat_minor": 5
}
